{
 "cells": [
  {
   "cell_type": "markdown",
   "metadata": {},
   "source": [
    "<p float=\"center\">\n",
    "  <img src=\"https://github.com/carlosalvarezh/Analisis_Numerico/blob/master/images/C00_Img00_logo.png?raw=true\" width=\"350\" />\n",
    "</p>\n",
    "<h1 align=\"center\">Implementación Métodos Numéricos de Jacobi y Gauss-Seidel Usando High Performance Computing</h1>\n",
    "<h2 align=\"center\">Por: Pablo Correa, Santiago Pulgarin, Ricardo Saldarriaga</h2>\n",
    "<h2 align=\"center\">18 de mayo, 2021</h2>\n",
    "<h2 align=\"center\">Universidad EAFIT</h2>\n",
    "<h2 align=\"center\">MEDELLÍN - COLOMBIA </h2>"
   ]
  },
  {
   "cell_type": "markdown",
   "metadata": {},
   "source": [
    "<h2>Introducción</h2>\n",
    "<p>Hoy en día estamos acostumbrados a que todo esté al alcance de un click y que todo sea rápido. De allí, que la tecnología todos los días está evolucionando para ser más eficiente y más útil para todas las personas. Uno de esos aspectos de eficiencia, está en que se necesitan tiempos de respuesta muy rápidos para muchas de las operaciones que realizamos con nuestros dispositivos día a día. Una de las estrategias que se utilizan para lograr esta eficiencia es la computación de alto rendimiento (HPC, por sus siglas en inglés). Para contextualizar un poco: \"<i>La computación de alto rendimiento (high-performance computing o HPC en inglés) implica usar la potencia de cálculo para resolver problemas complejos en ciencia, ingeniería y gestión. Para lograr este objetivo, la computación de alto rendimiento se apoya en tecnologías computacionales como los clusters, los supercomputadores o la computación paralela. La mayoría de las ideas actuales de la computación distribuida se han basado en la computación de alto rendimiento.</i>\" (Wikipedia, 2020).</p>\n",
    "<p>Siguiendo la definición anterior, este proyecto tiene como objetivo hacer uso del HPC para implementar dos metodos numericos para la resolución de sistemas de ecuaciones lineales: El metodo de Jacobi y el metodo de Gauss-Seidel. Esta implementación se realizara en 3 lenguajes de programnación diferentes, esto con el objetivo de probar la eficiencia de cada uno de estos. Dichos lenguajes son: \n",
    "<ul>\n",
    "    <li>Python</li>\n",
    "    <li>C#</li>\n",
    "    <li>Julia</li>\n",
    "</ul></p>"
   ]
  },
  {
   "cell_type": "markdown",
   "metadata": {},
   "source": [
    "<h2>Marco Teorico</h2>\n",
    "<h3>Método de Jacobi</h3>\n",
    "<p>En algebra lineal, el método de Jacobi es un algoritmo iterativo para determinar las soluciones a un sistema de ecuaciones lineales.<a href=\"https://en.wikipedia.org/wiki/Diagonally_dominant_matrix\">Estrictamente Diagonalmente Dominante</a>. De este, surge el siguiente esquema:</p>\n",
    "<br>\n",
    "$$x_i^{(k)}=\\frac{1}{a_{ii}} \\left(b_i-\\sum \\limits_{\\substack{j=1 \\\\ j\\ne i}}^n a_{i,j}x_j^{(k-1)} \\right) \\text{, con } i=1,2,3,..., n$$\n",
    "<br>\n",
    "<p>donde el superíndice $k$ indica la iteración. En el método de <strong>Jacobi</strong>, para encontrar el valor de cada $x_i^{k}$ se usan los valores de $x$ calculados en la iteración anterior, $k-1$. Por lo que es necesario siempre tener esos valores anteriores almacenados.</p>"
   ]
  },
  {
   "cell_type": "markdown",
   "metadata": {},
   "source": [
    "<h5>Algoritmo</h5><br>\n",
    "<div style=\"background-color:rgba(0, 0, 0, 0.0470588); padding:10px 0;font-family:monospace;\">\n",
    "<i>pseudocodigo</i><br>\n",
    "<font color = \"black\"><strong>Entrada:</strong> Vector inicial $x^{(0)}$, número máximo de iteraciones ($kmax$), Matriz Diagonalmente Dominante $A$, vector independiente $b$, criterio de convergencia y tolerancia.</font><br>\n",
    "<font color = \"black\"><strong>Salida:</strong> Solución cuando la convergenccia es encontrada.</font><br>\n",
    "<br>\n",
    "<font color = \"blue\">$k=0$</font><br>\n",
    "$mientras$ no haya convergencia $haga$:<br>\n",
    "&nbsp;&nbsp;&nbsp;&nbsp; desde <font color = \"red\">$i=1$ hasta $n$ </font>haga:<br>\n",
    "&nbsp;&nbsp;&nbsp;&nbsp;&nbsp;&nbsp;&nbsp;&nbsp; <font color = \"blue\">$suma = 0$</font><br>\n",
    "&nbsp;&nbsp;&nbsp;&nbsp;&nbsp;&nbsp;&nbsp;&nbsp; desde <font color = \"red\">$j=1$ hasta $n$ </font>haga:<br>\n",
    "&nbsp;&nbsp;&nbsp;&nbsp;&nbsp;&nbsp;&nbsp;&nbsp;&nbsp;&nbsp;&nbsp;&nbsp; si <font color = \"red\">$j \\neq i$ </font>entonces:<br>\n",
    "&nbsp;&nbsp;&nbsp;&nbsp;&nbsp;&nbsp;&nbsp;&nbsp;&nbsp;&nbsp;&nbsp;&nbsp;&nbsp;&nbsp;&nbsp;&nbsp; <font color = \"blue\">$suma = suma + a_{i,j}x_j^{(k)}$</font><br>\n",
    "&nbsp;&nbsp;&nbsp;&nbsp;&nbsp;&nbsp;&nbsp;&nbsp;&nbsp;&nbsp;&nbsp;&nbsp; fin si <br>\n",
    "&nbsp;&nbsp;&nbsp;&nbsp;&nbsp;&nbsp;&nbsp;&nbsp; fin desde <br>\n",
    "&nbsp;&nbsp;&nbsp;&nbsp;&nbsp;&nbsp;&nbsp;&nbsp; <font color = \"blue\">$x_i^{(k+1)} = \\frac{1}{a_{i,i}}(b_i - suma)$</font><br>\n",
    "&nbsp;&nbsp;&nbsp;&nbsp; fin desde <br>     \n",
    "&nbsp;&nbsp;&nbsp;&nbsp; <font color = \"blue\">$k=k+1$</font><br>\n",
    "fin mientras <br>     \n",
    "</div>"
   ]
  },
  {
   "cell_type": "markdown",
   "metadata": {},
   "source": [
    "<h5>Convergencia</h5>\n",
    "<p>La condición de convergencia estandar (para todos los métodos iterativos) es cuando el <a href=\"https://en.wikipedia.org/wiki/Spectral_radius\">Radio Espectral</a> de la matriz de iteración es menor a 1:</p>\n",
    "<img src=\"https://wikimedia.org/api/rest_v1/media/math/render/svg/55a84dfad167d6872e52ce5b8f8cacb46c06b719\" class=\"mwe-math-fallback-image-inline\" aria-hidden=\"true\" style=\"vertical-align: -0.838ex; width:20.191ex; height:3.176ex;\" alt=\"{\\displaystyle \\rho (D^{-1}(L+U))<1.}\">"
   ]
  },
  {
   "cell_type": "markdown",
   "metadata": {},
   "source": [
    "<h2>Referencias:</h2>\n",
    "<ol>\n",
    "    <li>https://es.wikipedia.org/wiki/Computaci%C3%B3n_de_alto_rendimiento</li>\n",
    "    <li>https://en.wikipedia.org/wiki/Jacobi_method</li>\n",
    "    <li>https://en.wikipedia.org/wiki/Diagonally_dominant_matrix</li>\n",
    "</ol>"
   ]
  },
  {
   "cell_type": "code",
   "execution_count": null,
   "metadata": {},
   "outputs": [],
   "source": []
  }
 ],
 "metadata": {
  "kernelspec": {
   "display_name": "Python 3",
   "language": "python",
   "name": "python3"
  },
  "language_info": {
   "codemirror_mode": {
    "name": "ipython",
    "version": 3
   },
   "file_extension": ".py",
   "mimetype": "text/x-python",
   "name": "python",
   "nbconvert_exporter": "python",
   "pygments_lexer": "ipython3",
   "version": "3.7.0"
  }
 },
 "nbformat": 4,
 "nbformat_minor": 2
}
